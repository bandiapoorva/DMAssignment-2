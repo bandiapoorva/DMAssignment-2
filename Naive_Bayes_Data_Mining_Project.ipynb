{
  "nbformat": 4,
  "nbformat_minor": 0,
  "metadata": {
    "colab": {
      "provenance": []
    },
    "kernelspec": {
      "name": "python3",
      "display_name": "Python 3"
    },
    "language_info": {
      "name": "python"
    }
  },
  "cells": [
    {
      "cell_type": "code",
      "execution_count": null,
      "metadata": {
        "colab": {
          "base_uri": "https://localhost:8080/"
        },
        "id": "CcDVZAjqzZp_",
        "outputId": "dedf99e5-e384-46ba-af7f-ca0d24c57170"
      },
      "outputs": [
        {
          "output_type": "stream",
          "name": "stderr",
          "text": [
            "[nltk_data] Downloading package punkt to /root/nltk_data...\n",
            "[nltk_data]   Unzipping tokenizers/punkt.zip.\n"
          ]
        },
        {
          "output_type": "execute_result",
          "data": {
            "text/plain": [
              "True"
            ]
          },
          "metadata": {},
          "execution_count": 1
        }
      ],
      "source": [
        "# Cell 1\n",
        "# Import NLTK library for text processing\n",
        "import nltk\n",
        "from nltk.tokenize import word_tokenize\n",
        "from collections import Counter, defaultdict\n",
        "import math\n",
        "import pandas as pd\n",
        "from sklearn.metrics import classification_report\n",
        "from sklearn.model_selection import train_test_split\n",
        "# Download the 'punkt' model data for NLTK\n",
        "nltk.download('punkt')"
      ]
    },
    {
      "cell_type": "code",
      "source": [
        "# Load the datasets\n",
        "human_essays = pd.read_csv(\"/content/train_essays.csv\")\n",
        "llm_essays = pd.read_csv(\"/content/chatGPT_essays.csv\")\n",
        "\n",
        "# Combine datasets\n",
        "combined_essays = pd.concat([human_essays, llm_essays], ignore_index=True)\n",
        "combined_essays"
      ],
      "metadata": {
        "colab": {
          "base_uri": "https://localhost:8080/",
          "height": 424
        },
        "id": "uMp-JwNH0kPL",
        "outputId": "703d79e3-37de-4cf6-f9f3-2b99a1463df1"
      },
      "execution_count": null,
      "outputs": [
        {
          "output_type": "execute_result",
          "data": {
            "text/plain": [
              "            id prompt_id                                               text  \\\n",
              "0     0059830c         0  Cars. Cars have been around since they became ...   \n",
              "1     005db917         0  Transportation is a large necessity in most co...   \n",
              "2     008f63e3         0  \"America's love affair with it's vehicles seem...   \n",
              "3       940276         0  How often do you ride in a car? Do you drive a...   \n",
              "4     00c39458         0  Cars are a wonderful thing. They are perhaps o...   \n",
              "...        ...       ...                                                ...   \n",
              "1658  358e658e         0  A man is driving in his car recklessly in a hu...   \n",
              "1659  35cb12f4         0  Their are so many things you can do to help ke...   \n",
              "1660  35cdfc71         1  \"Do voters really control whom their elector p...   \n",
              "1661  35db0aa4         1  Dear, I believe that the way of voting for a p...   \n",
              "1662  366527f4         0  Thick, foggy air is the future for this planet...   \n",
              "\n",
              "     generated  \n",
              "0            0  \n",
              "1            0  \n",
              "2            0  \n",
              "3            0  \n",
              "4            0  \n",
              "...        ...  \n",
              "1658         1  \n",
              "1659         1  \n",
              "1660         1  \n",
              "1661         1  \n",
              "1662         1  \n",
              "\n",
              "[1663 rows x 4 columns]"
            ],
            "text/html": [
              "\n",
              "  <div id=\"df-cdb434f0-8cb9-42aa-abb2-28f13482de48\" class=\"colab-df-container\">\n",
              "    <div>\n",
              "<style scoped>\n",
              "    .dataframe tbody tr th:only-of-type {\n",
              "        vertical-align: middle;\n",
              "    }\n",
              "\n",
              "    .dataframe tbody tr th {\n",
              "        vertical-align: top;\n",
              "    }\n",
              "\n",
              "    .dataframe thead th {\n",
              "        text-align: right;\n",
              "    }\n",
              "</style>\n",
              "<table border=\"1\" class=\"dataframe\">\n",
              "  <thead>\n",
              "    <tr style=\"text-align: right;\">\n",
              "      <th></th>\n",
              "      <th>id</th>\n",
              "      <th>prompt_id</th>\n",
              "      <th>text</th>\n",
              "      <th>generated</th>\n",
              "    </tr>\n",
              "  </thead>\n",
              "  <tbody>\n",
              "    <tr>\n",
              "      <th>0</th>\n",
              "      <td>0059830c</td>\n",
              "      <td>0</td>\n",
              "      <td>Cars. Cars have been around since they became ...</td>\n",
              "      <td>0</td>\n",
              "    </tr>\n",
              "    <tr>\n",
              "      <th>1</th>\n",
              "      <td>005db917</td>\n",
              "      <td>0</td>\n",
              "      <td>Transportation is a large necessity in most co...</td>\n",
              "      <td>0</td>\n",
              "    </tr>\n",
              "    <tr>\n",
              "      <th>2</th>\n",
              "      <td>008f63e3</td>\n",
              "      <td>0</td>\n",
              "      <td>\"America's love affair with it's vehicles seem...</td>\n",
              "      <td>0</td>\n",
              "    </tr>\n",
              "    <tr>\n",
              "      <th>3</th>\n",
              "      <td>940276</td>\n",
              "      <td>0</td>\n",
              "      <td>How often do you ride in a car? Do you drive a...</td>\n",
              "      <td>0</td>\n",
              "    </tr>\n",
              "    <tr>\n",
              "      <th>4</th>\n",
              "      <td>00c39458</td>\n",
              "      <td>0</td>\n",
              "      <td>Cars are a wonderful thing. They are perhaps o...</td>\n",
              "      <td>0</td>\n",
              "    </tr>\n",
              "    <tr>\n",
              "      <th>...</th>\n",
              "      <td>...</td>\n",
              "      <td>...</td>\n",
              "      <td>...</td>\n",
              "      <td>...</td>\n",
              "    </tr>\n",
              "    <tr>\n",
              "      <th>1658</th>\n",
              "      <td>358e658e</td>\n",
              "      <td>0</td>\n",
              "      <td>A man is driving in his car recklessly in a hu...</td>\n",
              "      <td>1</td>\n",
              "    </tr>\n",
              "    <tr>\n",
              "      <th>1659</th>\n",
              "      <td>35cb12f4</td>\n",
              "      <td>0</td>\n",
              "      <td>Their are so many things you can do to help ke...</td>\n",
              "      <td>1</td>\n",
              "    </tr>\n",
              "    <tr>\n",
              "      <th>1660</th>\n",
              "      <td>35cdfc71</td>\n",
              "      <td>1</td>\n",
              "      <td>\"Do voters really control whom their elector p...</td>\n",
              "      <td>1</td>\n",
              "    </tr>\n",
              "    <tr>\n",
              "      <th>1661</th>\n",
              "      <td>35db0aa4</td>\n",
              "      <td>1</td>\n",
              "      <td>Dear, I believe that the way of voting for a p...</td>\n",
              "      <td>1</td>\n",
              "    </tr>\n",
              "    <tr>\n",
              "      <th>1662</th>\n",
              "      <td>366527f4</td>\n",
              "      <td>0</td>\n",
              "      <td>Thick, foggy air is the future for this planet...</td>\n",
              "      <td>1</td>\n",
              "    </tr>\n",
              "  </tbody>\n",
              "</table>\n",
              "<p>1663 rows × 4 columns</p>\n",
              "</div>\n",
              "    <div class=\"colab-df-buttons\">\n",
              "\n",
              "  <div class=\"colab-df-container\">\n",
              "    <button class=\"colab-df-convert\" onclick=\"convertToInteractive('df-cdb434f0-8cb9-42aa-abb2-28f13482de48')\"\n",
              "            title=\"Convert this dataframe to an interactive table.\"\n",
              "            style=\"display:none;\">\n",
              "\n",
              "  <svg xmlns=\"http://www.w3.org/2000/svg\" height=\"24px\" viewBox=\"0 -960 960 960\">\n",
              "    <path d=\"M120-120v-720h720v720H120Zm60-500h600v-160H180v160Zm220 220h160v-160H400v160Zm0 220h160v-160H400v160ZM180-400h160v-160H180v160Zm440 0h160v-160H620v160ZM180-180h160v-160H180v160Zm440 0h160v-160H620v160Z\"/>\n",
              "  </svg>\n",
              "    </button>\n",
              "\n",
              "  <style>\n",
              "    .colab-df-container {\n",
              "      display:flex;\n",
              "      gap: 12px;\n",
              "    }\n",
              "\n",
              "    .colab-df-convert {\n",
              "      background-color: #E8F0FE;\n",
              "      border: none;\n",
              "      border-radius: 50%;\n",
              "      cursor: pointer;\n",
              "      display: none;\n",
              "      fill: #1967D2;\n",
              "      height: 32px;\n",
              "      padding: 0 0 0 0;\n",
              "      width: 32px;\n",
              "    }\n",
              "\n",
              "    .colab-df-convert:hover {\n",
              "      background-color: #E2EBFA;\n",
              "      box-shadow: 0px 1px 2px rgba(60, 64, 67, 0.3), 0px 1px 3px 1px rgba(60, 64, 67, 0.15);\n",
              "      fill: #174EA6;\n",
              "    }\n",
              "\n",
              "    .colab-df-buttons div {\n",
              "      margin-bottom: 4px;\n",
              "    }\n",
              "\n",
              "    [theme=dark] .colab-df-convert {\n",
              "      background-color: #3B4455;\n",
              "      fill: #D2E3FC;\n",
              "    }\n",
              "\n",
              "    [theme=dark] .colab-df-convert:hover {\n",
              "      background-color: #434B5C;\n",
              "      box-shadow: 0px 1px 3px 1px rgba(0, 0, 0, 0.15);\n",
              "      filter: drop-shadow(0px 1px 2px rgba(0, 0, 0, 0.3));\n",
              "      fill: #FFFFFF;\n",
              "    }\n",
              "  </style>\n",
              "\n",
              "    <script>\n",
              "      const buttonEl =\n",
              "        document.querySelector('#df-cdb434f0-8cb9-42aa-abb2-28f13482de48 button.colab-df-convert');\n",
              "      buttonEl.style.display =\n",
              "        google.colab.kernel.accessAllowed ? 'block' : 'none';\n",
              "\n",
              "      async function convertToInteractive(key) {\n",
              "        const element = document.querySelector('#df-cdb434f0-8cb9-42aa-abb2-28f13482de48');\n",
              "        const dataTable =\n",
              "          await google.colab.kernel.invokeFunction('convertToInteractive',\n",
              "                                                    [key], {});\n",
              "        if (!dataTable) return;\n",
              "\n",
              "        const docLinkHtml = 'Like what you see? Visit the ' +\n",
              "          '<a target=\"_blank\" href=https://colab.research.google.com/notebooks/data_table.ipynb>data table notebook</a>'\n",
              "          + ' to learn more about interactive tables.';\n",
              "        element.innerHTML = '';\n",
              "        dataTable['output_type'] = 'display_data';\n",
              "        await google.colab.output.renderOutput(dataTable, element);\n",
              "        const docLink = document.createElement('div');\n",
              "        docLink.innerHTML = docLinkHtml;\n",
              "        element.appendChild(docLink);\n",
              "      }\n",
              "    </script>\n",
              "  </div>\n",
              "\n",
              "\n",
              "<div id=\"df-263910db-50c9-4620-befd-6d7d7e870c2a\">\n",
              "  <button class=\"colab-df-quickchart\" onclick=\"quickchart('df-263910db-50c9-4620-befd-6d7d7e870c2a')\"\n",
              "            title=\"Suggest charts\"\n",
              "            style=\"display:none;\">\n",
              "\n",
              "<svg xmlns=\"http://www.w3.org/2000/svg\" height=\"24px\"viewBox=\"0 0 24 24\"\n",
              "     width=\"24px\">\n",
              "    <g>\n",
              "        <path d=\"M19 3H5c-1.1 0-2 .9-2 2v14c0 1.1.9 2 2 2h14c1.1 0 2-.9 2-2V5c0-1.1-.9-2-2-2zM9 17H7v-7h2v7zm4 0h-2V7h2v10zm4 0h-2v-4h2v4z\"/>\n",
              "    </g>\n",
              "</svg>\n",
              "  </button>\n",
              "\n",
              "<style>\n",
              "  .colab-df-quickchart {\n",
              "      --bg-color: #E8F0FE;\n",
              "      --fill-color: #1967D2;\n",
              "      --hover-bg-color: #E2EBFA;\n",
              "      --hover-fill-color: #174EA6;\n",
              "      --disabled-fill-color: #AAA;\n",
              "      --disabled-bg-color: #DDD;\n",
              "  }\n",
              "\n",
              "  [theme=dark] .colab-df-quickchart {\n",
              "      --bg-color: #3B4455;\n",
              "      --fill-color: #D2E3FC;\n",
              "      --hover-bg-color: #434B5C;\n",
              "      --hover-fill-color: #FFFFFF;\n",
              "      --disabled-bg-color: #3B4455;\n",
              "      --disabled-fill-color: #666;\n",
              "  }\n",
              "\n",
              "  .colab-df-quickchart {\n",
              "    background-color: var(--bg-color);\n",
              "    border: none;\n",
              "    border-radius: 50%;\n",
              "    cursor: pointer;\n",
              "    display: none;\n",
              "    fill: var(--fill-color);\n",
              "    height: 32px;\n",
              "    padding: 0;\n",
              "    width: 32px;\n",
              "  }\n",
              "\n",
              "  .colab-df-quickchart:hover {\n",
              "    background-color: var(--hover-bg-color);\n",
              "    box-shadow: 0 1px 2px rgba(60, 64, 67, 0.3), 0 1px 3px 1px rgba(60, 64, 67, 0.15);\n",
              "    fill: var(--button-hover-fill-color);\n",
              "  }\n",
              "\n",
              "  .colab-df-quickchart-complete:disabled,\n",
              "  .colab-df-quickchart-complete:disabled:hover {\n",
              "    background-color: var(--disabled-bg-color);\n",
              "    fill: var(--disabled-fill-color);\n",
              "    box-shadow: none;\n",
              "  }\n",
              "\n",
              "  .colab-df-spinner {\n",
              "    border: 2px solid var(--fill-color);\n",
              "    border-color: transparent;\n",
              "    border-bottom-color: var(--fill-color);\n",
              "    animation:\n",
              "      spin 1s steps(1) infinite;\n",
              "  }\n",
              "\n",
              "  @keyframes spin {\n",
              "    0% {\n",
              "      border-color: transparent;\n",
              "      border-bottom-color: var(--fill-color);\n",
              "      border-left-color: var(--fill-color);\n",
              "    }\n",
              "    20% {\n",
              "      border-color: transparent;\n",
              "      border-left-color: var(--fill-color);\n",
              "      border-top-color: var(--fill-color);\n",
              "    }\n",
              "    30% {\n",
              "      border-color: transparent;\n",
              "      border-left-color: var(--fill-color);\n",
              "      border-top-color: var(--fill-color);\n",
              "      border-right-color: var(--fill-color);\n",
              "    }\n",
              "    40% {\n",
              "      border-color: transparent;\n",
              "      border-right-color: var(--fill-color);\n",
              "      border-top-color: var(--fill-color);\n",
              "    }\n",
              "    60% {\n",
              "      border-color: transparent;\n",
              "      border-right-color: var(--fill-color);\n",
              "    }\n",
              "    80% {\n",
              "      border-color: transparent;\n",
              "      border-right-color: var(--fill-color);\n",
              "      border-bottom-color: var(--fill-color);\n",
              "    }\n",
              "    90% {\n",
              "      border-color: transparent;\n",
              "      border-bottom-color: var(--fill-color);\n",
              "    }\n",
              "  }\n",
              "</style>\n",
              "\n",
              "  <script>\n",
              "    async function quickchart(key) {\n",
              "      const quickchartButtonEl =\n",
              "        document.querySelector('#' + key + ' button');\n",
              "      quickchartButtonEl.disabled = true;  // To prevent multiple clicks.\n",
              "      quickchartButtonEl.classList.add('colab-df-spinner');\n",
              "      try {\n",
              "        const charts = await google.colab.kernel.invokeFunction(\n",
              "            'suggestCharts', [key], {});\n",
              "      } catch (error) {\n",
              "        console.error('Error during call to suggestCharts:', error);\n",
              "      }\n",
              "      quickchartButtonEl.classList.remove('colab-df-spinner');\n",
              "      quickchartButtonEl.classList.add('colab-df-quickchart-complete');\n",
              "    }\n",
              "    (() => {\n",
              "      let quickchartButtonEl =\n",
              "        document.querySelector('#df-263910db-50c9-4620-befd-6d7d7e870c2a button');\n",
              "      quickchartButtonEl.style.display =\n",
              "        google.colab.kernel.accessAllowed ? 'block' : 'none';\n",
              "    })();\n",
              "  </script>\n",
              "</div>\n",
              "    </div>\n",
              "  </div>\n"
            ]
          },
          "metadata": {},
          "execution_count": 3
        }
      ]
    },
    {
      "cell_type": "code",
      "source": [
        "training_set, development_set = train_test_split(combined_essays, test_size=0.1, random_state=42)"
      ],
      "metadata": {
        "id": "SRmYMzzx3Al5"
      },
      "execution_count": null,
      "outputs": []
    },
    {
      "cell_type": "code",
      "source": [
        "def create_lexicon(data, min_frequency=5):\n",
        "    word_counts = Counter()\n",
        "    for essay in data['text']:\n",
        "        words = word_tokenize(essay.lower())\n",
        "        word_counts.update(word for word in words if word.isalpha())\n",
        "\n",
        "    lexicon = [word for word, freq in word_counts.items() if freq >= min_frequency]\n",
        "    reverse_dictionary = {word: idx for idx, word in enumerate(lexicon)}\n",
        "\n",
        "    return lexicon, reverse_dictionary\n",
        "\n",
        "lexicon, reverse_dictionary = create_lexicon(combined_essays)"
      ],
      "metadata": {
        "id": "AFnTMAAF3SOv"
      },
      "execution_count": null,
      "outputs": []
    },
    {
      "cell_type": "code",
      "source": [
        "def calculate_probabilities_with_smoothing(data, lexicon, alpha=1.0):\n",
        "    class_word_counts = {class_label: Counter() for class_label in ['Human', 'LLM']}\n",
        "    total_word_counts = Counter()\n",
        "    for _, row in data.iterrows():\n",
        "        class_label = 'Human' if row['generated'] == 0 else 'LLM'\n",
        "        words = set(word_tokenize(row['text'].lower()))\n",
        "        total_word_counts.update(words)\n",
        "        for word in words:\n",
        "            if word in lexicon:\n",
        "                class_word_counts[class_label][word] += 1\n",
        "\n",
        "    total_docs = len(data)\n",
        "    total_docs_per_class = {'Human': len(data[data['generated'] == 0]), 'LLM': len(data[data['generated'] == 1])}\n",
        "\n",
        "    probabilities = {word: {class_label: (class_word_counts[class_label][word] + alpha) / (total_docs_per_class[class_label] + alpha * len(lexicon))\n",
        "                            for class_label in ['Human', 'LLM']} for word in lexicon}\n",
        "\n",
        "    word_occurrence_probabilities = {word: total_word_counts[word] / total_docs for word in lexicon}\n",
        "    return probabilities, word_occurrence_probabilities\n"
      ],
      "metadata": {
        "id": "jiufRoLOLKyf"
      },
      "execution_count": null,
      "outputs": []
    },
    {
      "cell_type": "code",
      "source": [
        "# Using the modified function with smoothing\n",
        "alpha_value = 1.0\n",
        "word_probabilities, _ = calculate_probabilities_with_smoothing(training_set, lexicon, alpha_value)\n",
        "# Print the first 5 entries of word_probabilities\n",
        "print(\"First 5 entries of word_probabilities:\")\n",
        "for word in list(word_probabilities.keys())[:5]:\n",
        "    print(f\"{word}: {word_probabilities[word]}\")\n"
      ],
      "metadata": {
        "colab": {
          "base_uri": "https://localhost:8080/"
        },
        "id": "ChBK20uBLcc7",
        "outputId": "4a17fbb9-75ba-4d41-f053-fbecf45af8d4"
      },
      "execution_count": null,
      "outputs": [
        {
          "output_type": "stream",
          "name": "stdout",
          "text": [
            "First 5 entries of word_probabilities:\n",
            "cars: {'Human': 0.08933129147524248, 'LLM': 0.04652079637295486}\n",
            "have: {'Human': 0.16862344733707674, 'LLM': 0.08850778631973191}\n",
            "been: {'Human': 0.0852475752935171, 'LLM': 0.04592943031736645}\n",
            "around: {'Human': 0.05768249106687085, 'LLM': 0.03429923122412774}\n",
            "since: {'Human': 0.05121660711247235, 'LLM': 0.02877981470530258}\n"
          ]
        }
      ]
    },
    {
      "cell_type": "code",
      "source": [
        "# Print the first 5 entries of word_occurrence_probabilities\n",
        "# Ensure this line is present in your code after the modified function call\n",
        "_, word_occurrence_probabilities = calculate_probabilities_with_smoothing(training_set, lexicon, alpha_value)\n",
        "print(\"\\nFirst 5 entries of word_occurrence_probabilities:\")\n",
        "for word in list(word_occurrence_probabilities.keys())[:5]:\n",
        "    print(f\"{word}: {word_occurrence_probabilities[word]}\")"
      ],
      "metadata": {
        "colab": {
          "base_uri": "https://localhost:8080/"
        },
        "id": "DSMiLkyYLTNt",
        "outputId": "b9edb8ae-6039-4f14-bdf5-9abd62376159"
      },
      "execution_count": null,
      "outputs": [
        {
          "output_type": "stream",
          "name": "stdout",
          "text": [
            "\n",
            "First 5 entries of word_occurrence_probabilities:\n",
            "cars: 0.5073529411764706\n",
            "have: 0.9612299465240641\n",
            "been: 0.4893048128342246\n",
            "around: 0.34157754010695185\n",
            "since: 0.29745989304812837\n"
          ]
        }
      ]
    },
    {
      "cell_type": "code",
      "source": [
        "def essay_classifier(essay, lexicon, word_probabilities):\n",
        "    tokens = word_tokenize(essay.lower())\n",
        "    scores = {'Human': 0, 'LLM': 0}\n",
        "    for token in tokens:\n",
        "        if token in lexicon:\n",
        "            scores['Human'] += math.log(word_probabilities[token]['Human'])\n",
        "            scores['LLM'] += math.log(word_probabilities[token]['LLM'])\n",
        "    return 'Human' if scores['Human'] > scores['LLM'] else 'LLM'\n",
        "\n",
        "def evaluate_classifier(data, classifier, lexicon, word_probabilities):\n",
        "    correct_predictions = 0\n",
        "    for _, row in data.iterrows():\n",
        "        prediction = classifier(row['text'], lexicon, word_probabilities)\n",
        "        actual = 'Human' if row['generated'] == 0 else 'LLM'\n",
        "        if prediction == actual:\n",
        "            correct_predictions += 1\n",
        "    return correct_predictions / len(data)\n",
        "\n",
        "classifier_accuracy = evaluate_classifier(development_set, essay_classifier, lexicon, word_probabilities)\n",
        "print(f\"Classifier Accuracy: {classifier_accuracy:.2f}\")\n"
      ],
      "metadata": {
        "colab": {
          "base_uri": "https://localhost:8080/"
        },
        "id": "YCXMnk4lHtDH",
        "outputId": "37161a2b-d0ed-4c90-a095-6227aaa57692"
      },
      "execution_count": null,
      "outputs": [
        {
          "output_type": "stream",
          "name": "stdout",
          "text": [
            "Classifier Accuracy: 0.71\n"
          ]
        }
      ]
    },
    {
      "cell_type": "code",
      "source": [
        "def smoothing_analysis(dataset, lexicon, alpha_values):\n",
        "    for alpha in alpha_values:\n",
        "        probabilities, _ = calculate_probabilities_with_smoothing(dataset, lexicon, alpha)\n",
        "        accuracy = evaluate_classifier(dataset, essay_classifier, lexicon, probabilities)\n",
        "        print(f\"Accuracy with alpha {alpha}: {accuracy:.2f}\")\n",
        "# Perform smoothing analysis\n",
        "smoothing_analysis(development_set, lexicon, [0.5, 1, 1.5, 2])"
      ],
      "metadata": {
        "colab": {
          "base_uri": "https://localhost:8080/"
        },
        "id": "_QeIUpk_Qzxn",
        "outputId": "48afc395-091f-4ac5-8df5-a1e175730da4"
      },
      "execution_count": null,
      "outputs": [
        {
          "output_type": "stream",
          "name": "stdout",
          "text": [
            "Accuracy with alpha 0.5: 0.71\n",
            "Accuracy with alpha 1: 0.71\n",
            "Accuracy with alpha 1.5: 0.71\n",
            "Accuracy with alpha 2: 0.71\n"
          ]
        }
      ]
    },
    {
      "cell_type": "code",
      "source": [
        "def top_predictive_words(word_probabilities, top_n=10):\n",
        "    word_importance_human = {word: word_probabilities[word]['Human'] / (word_probabilities[word]['LLM'] + 1e-6) for word in word_probabilities}\n",
        "    word_importance_llm = {word: word_probabilities[word]['LLM'] / (word_probabilities[word]['Human'] + 1e-6) for word in word_probabilities}\n",
        "\n",
        "    top_words_human = sorted(word_importance_human.items(), key=lambda x: x[1], reverse=True)[:top_n]\n",
        "    top_words_llm = sorted(word_importance_llm.items(), key=lambda x: x[1], reverse=True)[:top_n]\n",
        "\n",
        "    return top_words_human, top_words_llm\n",
        "\n",
        "top_words_human, top_words_llm = top_predictive_words(word_probabilities)\n",
        "\n",
        "print(\"Top Predictive Words for Human Essays:\", [word for word, _ in top_words_human])\n",
        "print(\"Top Predictive Words for LLM Essays:\", [word for word, _ in top_words_llm])\n"
      ],
      "metadata": {
        "colab": {
          "base_uri": "https://localhost:8080/"
        },
        "id": "vW3T0LiXH4YI",
        "outputId": "ca934ba1-11ba-46b3-d5c8-a7b1c737b52d"
      },
      "execution_count": null,
      "outputs": [
        {
          "output_type": "stream",
          "name": "stdout",
          "text": [
            "Top Predictive Words for Human Essays: ['carolina', 'nobody', 'ideal', 'chooses', 'governments', 'broken', 'guarantee', 'mental', 'promoted', 'developing']\n",
            "Top Predictive Words for LLM Essays: ['progressive', 'campain', 'ancient', 'efficiant', 'longstanding', 'heavier', 'arm', 'greetings', 'reson', 'oversee']\n"
          ]
        }
      ]
    }
  ]
}